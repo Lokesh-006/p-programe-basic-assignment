{
 "cells": [
  {
   "cell_type": "markdown",
   "metadata": {},
   "source": [
    "# python basic program assignment 5 .ipynb"
   ]
  },
  {
   "cell_type": "raw",
   "metadata": {},
   "source": [
    "Write a Python Program to Find LCM?\n",
    "Write a Python Program to Find HCF?\n",
    "Write a Python Program to Convert Decimal to Binary, Octal and Hexadecimal?\n",
    "Write a Python Program To Find ASCII value of a character?\n",
    "Write a Python Program to Make a Simple Calculator with 4 basic mathematical operations?\n"
   ]
  },
  {
   "cell_type": "raw",
   "metadata": {},
   "source": [
    "Write a Python Program to Find LCM?"
   ]
  },
  {
   "cell_type": "code",
   "execution_count": 1,
   "metadata": {},
   "outputs": [
    {
     "name": "stdout",
     "output_type": "stream",
     "text": [
      "The L.C.M. is 216\n"
     ]
    }
   ],
   "source": [
    "def compute_lcm(num1, num2):\n",
    "    if x > y:\n",
    "        greater = x\n",
    "    else:\n",
    "        greater = y\n",
    "\n",
    "    while(True):\n",
    "        if((greater % x == 0) and (greater % y == 0)):\n",
    "            lcm = greater\n",
    "            break\n",
    "        greater += 1\n",
    "\n",
    "    return lcm\n",
    "\n",
    "x = num1 = 54\n",
    "y = num2 = 24\n",
    "\n",
    "print(\"The L.C.M. is\", compute_lcm(num1, num2))"
   ]
  },
  {
   "cell_type": "raw",
   "metadata": {},
   "source": [
    "Write a Python Program to Find HCF?"
   ]
  },
  {
   "cell_type": "code",
   "execution_count": 2,
   "metadata": {},
   "outputs": [
    {
     "name": "stdout",
     "output_type": "stream",
     "text": [
      "The H.C.F. is 6\n"
     ]
    }
   ],
   "source": [
    "def compute_hcf(x, y):\n",
    "    if x > y:\n",
    "        smaller = y\n",
    "    else:\n",
    "        smaller = x\n",
    "    for i in range(1, smaller+1):\n",
    "        if((x % i == 0) and (y % i == 0)):\n",
    "            hcf = i \n",
    "    return hcf\n",
    "\n",
    "x = num1 = 54 \n",
    "y = num2 = 24\n",
    "\n",
    "print(\"The H.C.F. is\", compute_hcf(num1, num2))"
   ]
  },
  {
   "cell_type": "raw",
   "metadata": {},
   "source": [
    "Write a Python Program to Convert Decimal to Binary, Octal and Hexadecimal?"
   ]
  },
  {
   "cell_type": "code",
   "execution_count": 3,
   "metadata": {},
   "outputs": [
    {
     "name": "stdout",
     "output_type": "stream",
     "text": [
      "desimal number :12047\n",
      "0b10111100001111 in Binary form of 12047\n",
      "0o27417 in Octal form of 12047\n",
      "0x2f0f in Hexadecimal form of 12047\n"
     ]
    }
   ],
   "source": [
    "a = decimal_num = int(input(\"desimal number :\"))\n",
    "print(bin(a),'in Binary form of',a)\n",
    "print(oct(a),'in Octal form of',a)\n",
    "print(hex(a),'in Hexadecimal form of',a)"
   ]
  },
  {
   "cell_type": "raw",
   "metadata": {},
   "source": [
    "Write a Python Program To Find ASCII value of a character?"
   ]
  },
  {
   "cell_type": "code",
   "execution_count": 4,
   "metadata": {},
   "outputs": [
    {
     "name": "stdout",
     "output_type": "stream",
     "text": [
      "ASCII value of Character :K\n",
      "ASCII value of Character K is equal to : 75\n"
     ]
    }
   ],
   "source": [
    "c = str(input('ASCII value of Character :'))\n",
    "print('ASCII value of Character '+ c + ' is equal to :',ord(c))"
   ]
  },
  {
   "cell_type": "raw",
   "metadata": {},
   "source": [
    "Write a Python Program to Make a Simple Calculator with 4 basic mathematical operations?"
   ]
  },
  {
   "cell_type": "code",
   "execution_count": 9,
   "metadata": {},
   "outputs": [
    {
     "name": "stdout",
     "output_type": "stream",
     "text": [
      "First num:100\n",
      "Secound num:10\n",
      "Simple Calculator with 4 basic mathematical operations\n",
      "A + B = 110.0\n",
      "A - B = 90.0\n",
      "A * B = 1000.0\n",
      "A / B = 10.0\n"
     ]
    }
   ],
   "source": [
    "A = float(input('First num:'))\n",
    "B = float(input('Secound num:'))\n",
    "print(\"Simple Calculator with 4 basic mathematical operations\")\n",
    "def Addition(A,B):\n",
    "    print(\"A + B =\",A+B)\n",
    "Addition(A,B)\n",
    "def Substraction(A,B):\n",
    "    print(\"A - B =\",A-B)\n",
    "Substraction(A,B)\n",
    "def Multiplication(A,B):\n",
    "    print(\"A * B =\",A*B)\n",
    "Multiplication(A,B)\n",
    "def Division(A,B):\n",
    "    print(\"A / B =\",A/B)\n",
    "Division(A,B)"
   ]
  },
  {
   "cell_type": "code",
   "execution_count": 10,
   "metadata": {},
   "outputs": [
    {
     "name": "stdout",
     "output_type": "stream",
     "text": [
      "A + B = 30\n"
     ]
    }
   ],
   "source": [
    "Addition(20,10)"
   ]
  },
  {
   "cell_type": "code",
   "execution_count": 11,
   "metadata": {},
   "outputs": [
    {
     "name": "stdout",
     "output_type": "stream",
     "text": [
      "A - B = 10\n"
     ]
    }
   ],
   "source": [
    "Substraction(20,10)"
   ]
  },
  {
   "cell_type": "code",
   "execution_count": 12,
   "metadata": {},
   "outputs": [
    {
     "name": "stdout",
     "output_type": "stream",
     "text": [
      "A * B = 200\n"
     ]
    }
   ],
   "source": [
    "Multiplication(20,10)"
   ]
  },
  {
   "cell_type": "code",
   "execution_count": 13,
   "metadata": {},
   "outputs": [
    {
     "name": "stdout",
     "output_type": "stream",
     "text": [
      "A / B = 2.0\n"
     ]
    }
   ],
   "source": [
    "Division(20,10)"
   ]
  }
 ],
 "metadata": {
  "kernelspec": {
   "display_name": "Python 3",
   "language": "python",
   "name": "python3"
  },
  "language_info": {
   "codemirror_mode": {
    "name": "ipython",
    "version": 3
   },
   "file_extension": ".py",
   "mimetype": "text/x-python",
   "name": "python",
   "nbconvert_exporter": "python",
   "pygments_lexer": "ipython3",
   "version": "3.8.5"
  }
 },
 "nbformat": 4,
 "nbformat_minor": 4
}
