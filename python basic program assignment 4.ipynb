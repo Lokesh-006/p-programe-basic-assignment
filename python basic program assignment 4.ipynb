{
 "cells": [
  {
   "cell_type": "markdown",
   "metadata": {},
   "source": [
    "# python basic program assignment 4 .ipynb"
   ]
  },
  {
   "cell_type": "raw",
   "metadata": {},
   "source": [
    "1.Write a Python Program to Find the Factorial of a Number?\n",
    "2.Write a Python Program to Display the multiplication Table?\n",
    "3.Write a Python Program to Print the Fibonacci sequence?\n",
    "4.Write a Python Program to Check Armstrong Number?\n",
    "5.Write a Python Program to Find Armstrong Number in an Interval?\n",
    "6.Write a Python Program to Find the Sum of Natural Numbers?"
   ]
  },
  {
   "cell_type": "raw",
   "metadata": {},
   "source": [
    "1.Write a Python Program to Find the Factorial of a Number?"
   ]
  },
  {
   "cell_type": "code",
   "execution_count": 9,
   "metadata": {},
   "outputs": [
    {
     "name": "stdout",
     "output_type": "stream",
     "text": [
      "number = 4\n",
      "4 ! = 24\n"
     ]
    }
   ],
   "source": [
    "n = int(input(\"number = \"))\n",
    "def factoeial(n):\n",
    "    if n == 0:\n",
    "        return 1\n",
    "    else:\n",
    "        return n* factoeial(n-1)\n",
    "print(n,\"! =\",factoeial(n))\n"
   ]
  },
  {
   "cell_type": "raw",
   "metadata": {},
   "source": [
    "2.Write a Python Program to Display the multiplication Table?"
   ]
  },
  {
   "cell_type": "code",
   "execution_count": 12,
   "metadata": {},
   "outputs": [
    {
     "name": "stdout",
     "output_type": "stream",
     "text": [
      "table number = 10\n",
      "10 x 0 = 0\n",
      "10 x 1 = 10\n",
      "10 x 2 = 20\n",
      "10 x 3 = 30\n",
      "10 x 4 = 40\n",
      "10 x 5 = 50\n",
      "10 x 6 = 60\n",
      "10 x 7 = 70\n",
      "10 x 8 = 80\n",
      "10 x 9 = 90\n",
      "10 x 10 = 100\n"
     ]
    }
   ],
   "source": [
    "number = int(input(\"table number = \"))\n",
    "for i in range (0,11):\n",
    "    print(number,\"x\",i,\"=\",number*i)"
   ]
  },
  {
   "cell_type": "raw",
   "metadata": {},
   "source": [
    "3.Write a Python Program to Print the Fibonacci sequence?"
   ]
  },
  {
   "cell_type": "code",
   "execution_count": 2,
   "metadata": {},
   "outputs": [
    {
     "name": "stdout",
     "output_type": "stream",
     "text": [
      "Enter the range of numbers :15\n",
      "0 1 1 2 3 5 8 13 21 34 55 89 144 233 377 "
     ]
    }
   ],
   "source": [
    "n = int(input('Enter the range of numbers :'))\n",
    "a,b=0,1\n",
    "count = 1\n",
    "while count <= n:\n",
    "    print(a , end = ' ')\n",
    "    a,b = b,a+b\n",
    "    count += 1\n",
    "    "
   ]
  },
  {
   "cell_type": "code",
   "execution_count": 15,
   "metadata": {},
   "outputs": [
    {
     "name": "stdout",
     "output_type": "stream",
     "text": [
      "15\n",
      "fibonacci sequance :\n",
      "0 1 1 2 3 5 8 13 21 34 55 89 144 233 377 "
     ]
    }
   ],
   "source": [
    "def fibonacci(n):\n",
    "    if n <= 1:\n",
    "        return n\n",
    "    else:\n",
    "        return(fibonacci(n-1) + fibonacci(n-2))\n",
    "nterms = int(input())\n",
    "if nterms <=0:\n",
    "        print(\"pleas enter valid possitive intiger\")\n",
    "else:\n",
    "        print(\"fibonacci sequance :\")\n",
    "        for i in range (nterms):\n",
    "            print(fibonacci(i),end = ' ')\n",
    "    "
   ]
  },
  {
   "cell_type": "raw",
   "metadata": {},
   "source": [
    "4.Write a Python Program to Check Armstrong Number?"
   ]
  },
  {
   "cell_type": "code",
   "execution_count": 11,
   "metadata": {},
   "outputs": [
    {
     "name": "stdout",
     "output_type": "stream",
     "text": [
      "111\n",
      "111 Is Not An Armstrong number\n"
     ]
    }
   ],
   "source": [
    "q=check_number=int(input())\n",
    "sum = 0\n",
    "temp = q\n",
    "while temp > 0:\n",
    "    digit = temp%10\n",
    "    sum+=digit**3\n",
    "    temp//=10\n",
    "if q == sum:\n",
    "    print(q,\"is an Armstong number\")\n",
    "else:\n",
    "    print(q,\"Is Not An Armstrong number\")"
   ]
  },
  {
   "cell_type": "code",
   "execution_count": 16,
   "metadata": {},
   "outputs": [
    {
     "name": "stdout",
     "output_type": "stream",
     "text": [
      "407\n",
      "407 is an Armstong number\n"
     ]
    }
   ],
   "source": [
    "q=check_number=int(input())\n",
    "sum = 0\n",
    "temp = q\n",
    "while temp > 0:\n",
    "    digit = temp%10\n",
    "    sum+=digit**3\n",
    "    temp//=10\n",
    "if q == sum:\n",
    "    print(q,\"is an Armstong number\")\n",
    "else:\n",
    "    print(q,\"Is Not An Armstrong number\")"
   ]
  },
  {
   "cell_type": "raw",
   "metadata": {},
   "source": [
    "5.Write a Python Program to Find Armstrong Number in an Interval?"
   ]
  },
  {
   "cell_type": "code",
   "execution_count": 24,
   "metadata": {},
   "outputs": [
    {
     "name": "stdout",
     "output_type": "stream",
     "text": [
      "first lmt :100\n",
      "second lmt :500\n",
      "153\n",
      "370\n",
      "371\n",
      "407\n"
     ]
    }
   ],
   "source": [
    "a1=int(input(\"first lmt :\"))\n",
    "a2=int(input(\"second lmt :\"))\n",
    "for i in range(a1,a2):\n",
    "    order =len(str(i))\n",
    "    sum = 0\n",
    "    temp = i\n",
    "    while temp > 0:\n",
    "        digit = temp%10\n",
    "        sum+=digit**order\n",
    "        temp//=10\n",
    "    if i == sum:\n",
    "        print(sum)"
   ]
  },
  {
   "cell_type": "raw",
   "metadata": {},
   "source": [
    "6.Write a Python Program to Find the Sum of Natural Numbers?"
   ]
  },
  {
   "cell_type": "code",
   "execution_count": 1,
   "metadata": {},
   "outputs": [
    {
     "name": "stdout",
     "output_type": "stream",
     "text": [
      "sum of N numbers upto :20\n",
      "210\n"
     ]
    }
   ],
   "source": [
    "num = int(input(\"sum of N numbers upto :\"))\n",
    "def sumOfNumbers(num):\n",
    "    if num <=1:\n",
    "        return(num)\n",
    "    else:\n",
    "        return(num + sumOfNumbers(num-1))\n",
    "print(sumOfNumbers(num))"
   ]
  },
  {
   "cell_type": "code",
   "execution_count": 2,
   "metadata": {},
   "outputs": [
    {
     "data": {
      "text/plain": [
       "15"
      ]
     },
     "execution_count": 2,
     "metadata": {},
     "output_type": "execute_result"
    }
   ],
   "source": [
    "sumOfNumbers(5)"
   ]
  },
  {
   "cell_type": "code",
   "execution_count": 9,
   "metadata": {},
   "outputs": [
    {
     "name": "stdout",
     "output_type": "stream",
     "text": [
      "sum of natural numbers =10000\n",
      "50005000\n"
     ]
    }
   ],
   "source": [
    "a = N_numbers =int(input(\"sum of natural numbers =\"))\n",
    "i = 1\n",
    "sum = 0\n",
    "while i<=a: \n",
    "    sum = sum + i\n",
    "    i=i+1\n",
    "print(sum)\n",
    "    \n",
    "    "
   ]
  },
  {
   "cell_type": "code",
   "execution_count": null,
   "metadata": {},
   "outputs": [],
   "source": []
  }
 ],
 "metadata": {
  "kernelspec": {
   "display_name": "Python 3",
   "language": "python",
   "name": "python3"
  },
  "language_info": {
   "codemirror_mode": {
    "name": "ipython",
    "version": 3
   },
   "file_extension": ".py",
   "mimetype": "text/x-python",
   "name": "python",
   "nbconvert_exporter": "python",
   "pygments_lexer": "ipython3",
   "version": "3.8.5"
  }
 },
 "nbformat": 4,
 "nbformat_minor": 4
}
