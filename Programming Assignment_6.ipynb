{
 "cells": [
  {
   "cell_type": "markdown",
   "metadata": {},
   "source": [
    "# python basic program assignment 6 "
   ]
  },
  {
   "cell_type": "raw",
   "metadata": {},
   "source": [
    "Write a Python Program to Display Fibonacci Sequence Using Recursion?"
   ]
  },
  {
   "cell_type": "code",
   "execution_count": 5,
   "metadata": {},
   "outputs": [
    {
     "name": "stdout",
     "output_type": "stream",
     "text": [
      "5\n",
      "fibonacci sequance :\n",
      "0 1 1 2 3 "
     ]
    }
   ],
   "source": [
    "def fibonacci(n):\n",
    "    if n <= 1:\n",
    "        return n\n",
    "    else:\n",
    "        return(fibonacci(n-1) + fibonacci(n-2))\n",
    "nterms = int(input())\n",
    "if nterms <=0:\n",
    "        print(\"pleas enter valid possitive intiger\")\n",
    "else:\n",
    "        print(\"fibonacci sequance :\")\n",
    "        for i in range (nterms):\n",
    "            print(fibonacci(i),end = ' ')"
   ]
  },
  {
   "cell_type": "raw",
   "metadata": {},
   "source": [
    "Write a Python Program to Find Factorial of Number Using Recursion?"
   ]
  },
  {
   "cell_type": "code",
   "execution_count": 6,
   "metadata": {},
   "outputs": [
    {
     "name": "stdout",
     "output_type": "stream",
     "text": [
      "number = 5\n",
      "5 ! = 120\n"
     ]
    }
   ],
   "source": [
    "n = int(input(\"number = \"))\n",
    "def factoeial(n):\n",
    "    if n == 0:\n",
    "        return 1\n",
    "    else:\n",
    "        return n* factoeial(n-1)\n",
    "print(n,\"! =\",factoeial(n))"
   ]
  },
  {
   "cell_type": "raw",
   "metadata": {},
   "source": [
    "Write a Python Program to calculate your Body Mass Index?"
   ]
  },
  {
   "cell_type": "code",
   "execution_count": 10,
   "metadata": {},
   "outputs": [
    {
     "name": "stdout",
     "output_type": "stream",
     "text": [
      "Enter your Body weight :60\n",
      "Enter height of the Body :165\n",
      "weight of The Body/(height**2) = 0.0022038567493112946\n"
     ]
    }
   ],
   "source": [
    "BMI=\"Weight of The Body/(height**2)\"\n",
    "W = int(input(\"Enter your Body weight :\"))\n",
    "H = int(input(\"Enter height of the Body :\"))\n",
    "def Body_mass_index(W,H):\n",
    "    return(W/(H**2))\n",
    "print(BMI,\"=\",Body_mass_index(W,H))"
   ]
  },
  {
   "cell_type": "raw",
   "metadata": {},
   "source": [
    "Write a Python Program to calculate the natural logarithm of any number?"
   ]
  },
  {
   "cell_type": "code",
   "execution_count": 19,
   "metadata": {},
   "outputs": [
    {
     "name": "stdout",
     "output_type": "stream",
     "text": [
      "To Find log(Natural number)100\n",
      "('Natural logarithm of 100', '=', 4.605170185988092)\n"
     ]
    }
   ],
   "source": [
    "a = int(input(\"To Find log(Natural number)\"))\n",
    "import math\n",
    "math.log(a)\n",
    "def log(a):\n",
    "    return(\"Natural logarithm of {}\".format(a),'=',math.log(a))\n",
    "print(log(a))"
   ]
  },
  {
   "cell_type": "raw",
   "metadata": {},
   "source": [
    "Write a Python Program for cube sum of first n natural numbers?"
   ]
  },
  {
   "cell_type": "code",
   "execution_count": 25,
   "metadata": {},
   "outputs": [
    {
     "name": "stdout",
     "output_type": "stream",
     "text": [
      "cube sum of N numbers upto :15\n",
      "120\n"
     ]
    }
   ],
   "source": [
    "num = int(input(\"cube sum of N numbers upto :\"))\n",
    "def sumOfNumbers(num):\n",
    "    if num <=1:\n",
    "        return(num)\n",
    "    else:\n",
    "        return(num + sumOfNumbers(num-1))\n",
    "cube_sum=sumOfNumbers(num)**2\n",
    "print(sumOfNumbers(num))"
   ]
  },
  {
   "cell_type": "code",
   "execution_count": null,
   "metadata": {},
   "outputs": [],
   "source": []
  }
 ],
 "metadata": {
  "kernelspec": {
   "display_name": "Python 3",
   "language": "python",
   "name": "python3"
  },
  "language_info": {
   "codemirror_mode": {
    "name": "ipython",
    "version": 3
   },
   "file_extension": ".py",
   "mimetype": "text/x-python",
   "name": "python",
   "nbconvert_exporter": "python",
   "pygments_lexer": "ipython3",
   "version": "3.8.5"
  }
 },
 "nbformat": 4,
 "nbformat_minor": 4
}
