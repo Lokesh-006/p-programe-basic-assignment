{
 "cells": [
  {
   "cell_type": "markdown",
   "id": "35929671",
   "metadata": {},
   "source": [
    "# Python_Basic_ Assignment 7\n"
   ]
  },
  {
   "cell_type": "markdown",
   "id": "48e73c62",
   "metadata": {},
   "source": [
    "### 1. What is the name of the feature responsible for generating Regex objects?"
   ]
  },
  {
   "cell_type": "markdown",
   "id": "a739c4ac",
   "metadata": {},
   "source": [
    " #### re.compile()\n",
    " * re.compile(is the name of the feature responsible for generating Regex objects"
   ]
  },
  {
   "cell_type": "code",
   "execution_count": 3,
   "id": "92a846ea",
   "metadata": {},
   "outputs": [],
   "source": [
    "import re"
   ]
  },
  {
   "cell_type": "code",
   "execution_count": 5,
   "id": "a92b1283",
   "metadata": {},
   "outputs": [
    {
     "name": "stdout",
     "output_type": "stream",
     "text": [
      "Help on function compile in module re:\n",
      "\n",
      "compile(pattern, flags=0)\n",
      "    Compile a regular expression pattern, returning a Pattern object.\n",
      "\n"
     ]
    }
   ],
   "source": [
    "help(re.compile)"
   ]
  },
  {
   "cell_type": "markdown",
   "id": "c78e95a0",
   "metadata": {},
   "source": [
    "### 2. Why do raw strings often appear in Regex objects?"
   ]
  },
  {
   "cell_type": "markdown",
   "id": "e21e3fc3",
   "metadata": {},
   "source": [
    "Raw strings are used so that backslashes do not have to be escaped."
   ]
  },
  {
   "cell_type": "markdown",
   "id": "de45f86e",
   "metadata": {},
   "source": [
    "### 3. What is the return value of the search() method?"
   ]
  },
  {
   "cell_type": "markdown",
   "id": "5e3f79fc",
   "metadata": {},
   "source": [
    "Return value of search methode is gives if the pattern ismatches match,esle it gives None "
   ]
  },
  {
   "cell_type": "code",
   "execution_count": 11,
   "id": "0c728551",
   "metadata": {},
   "outputs": [
    {
     "data": {
      "text/plain": [
       "<re.Match object; span=(0, 1), match='l'>"
      ]
     },
     "execution_count": 11,
     "metadata": {},
     "output_type": "execute_result"
    }
   ],
   "source": [
    "a = re.search('l','lokesh')\n",
    "a"
   ]
  },
  {
   "cell_type": "markdown",
   "id": "985c25d4",
   "metadata": {},
   "source": [
    "### 4. From a Match item, how do you get the actual strings that match the pattern?\n"
   ]
  },
  {
   "cell_type": "markdown",
   "id": "e35b41cf",
   "metadata": {},
   "source": [
    "Group() method returns strings of the matched text.\n"
   ]
  },
  {
   "cell_type": "markdown",
   "id": "bd5b0fe9",
   "metadata": {},
   "source": [
    "### 5. In the regex which created from the r'(\\d\\d\\d)-(\\d\\d\\d-\\d\\d\\d\\d)', what does group zero cover?Group 2? Group 1?"
   ]
  },
  {
   "cell_type": "markdown",
   "id": "10e0e898",
   "metadata": {},
   "source": [
    "* Group 0 covers whole part\n",
    "\n",
    "* Group 1 covers first part\n",
    "\n",
    "* Group 2 covers second part"
   ]
  },
  {
   "cell_type": "markdown",
   "id": "9df7c4b0",
   "metadata": {},
   "source": [
    "### 6. In standard expression syntax, parentheses and intervals have distinct meanings. How can you tell a regex that you want it to fit real parentheses and periods?"
   ]
  },
  {
   "cell_type": "raw",
   "id": "97bb7739",
   "metadata": {},
   "source": [
    " \\., \\(, and \\)"
   ]
  },
  {
   "cell_type": "markdown",
   "id": "203acbc8",
   "metadata": {},
   "source": [
    "### 7. The findall() method returns a string list or a list of string tuples. What causes it to return one of the two options?"
   ]
  },
  {
   "cell_type": "raw",
   "id": "b85b5466",
   "metadata": {},
   "source": [
    "when we enclose our pattern inside \"()\" it will return tuple when we enclose our pattern without using \"()\" it will return tuple"
   ]
  },
  {
   "cell_type": "markdown",
   "id": "a523429a",
   "metadata": {},
   "source": [
    "### 8. In standard expressions, what does the | character mean?"
   ]
  },
  {
   "cell_type": "markdown",
   "id": "293ea30d",
   "metadata": {},
   "source": [
    "* \" | \" - this Character is used Either or codicion of pattern."
   ]
  },
  {
   "cell_type": "code",
   "execution_count": 53,
   "id": "a10b23c4",
   "metadata": {},
   "outputs": [
    {
     "name": "stdout",
     "output_type": "stream",
     "text": [
      "['falls']\n"
     ]
    }
   ],
   "source": [
    "txt = \"The rain in Spain falls mainly in the plain!\"\n",
    "\n",
    "#Check if the string contains either \"falls\" or \"stays\":\n",
    "\n",
    "x = re.findall(\"falls|stays\", txt)\n",
    "\n",
    "print(x)\n"
   ]
  },
  {
   "cell_type": "markdown",
   "id": "47c6c875",
   "metadata": {},
   "source": [
    "### 9. In regular expressions, what does the ? character stand for?\n",
    "* \"?\" - is standsfor \tZero or one occurrences"
   ]
  },
  {
   "cell_type": "markdown",
   "id": "46f5a465",
   "metadata": {},
   "source": [
    "### 10.In regular expressions, what is the difference between the + and * characters?\n",
    "\n",
    "\n",
    "* \" +  \"  is stands for One or more occurrences\n",
    "* \" * \"  is stands for Zero or one occurrences"
   ]
  },
  {
   "cell_type": "markdown",
   "id": "6c69a0ce",
   "metadata": {},
   "source": [
    "### 11. What is the difference between {4} and {4,5} in regular expression?\n",
    "* {4} Matches the expression to its left 4 times, and not less.\n",
    "\n",
    "* {4,5) Matches the expression to its left 4 to 5 times, and not less.\n",
    "\n"
   ]
  },
  {
   "cell_type": "code",
   "execution_count": 62,
   "id": "8b858317",
   "metadata": {},
   "outputs": [
    {
     "name": "stdout",
     "output_type": "stream",
     "text": [
      "['hellow']\n"
     ]
    }
   ],
   "source": [
    "txt = \"hellow planet\"\n",
    "\n",
    "#Search for a sequence that starts with \"he\", followed excactly 2 (any) characters, and an \"o\":\n",
    "\n",
    "x = re.findall(\"h.{4}w\", txt)\n",
    "\n",
    "print(x)\n"
   ]
  },
  {
   "cell_type": "markdown",
   "id": "b62d241f",
   "metadata": {},
   "source": [
    "### 12. What do you mean by the \\d, \\w, and \\s shorthand character classes signify in regular expressions?"
   ]
  },
  {
   "cell_type": "markdown",
   "id": "c5c53d27",
   "metadata": {},
   "source": [
    "* \\d Returns a match where the string contains digits (numbers from 0-9)\n",
    "\n",
    "\n",
    "\n",
    "# \\d"
   ]
  },
  {
   "cell_type": "code",
   "execution_count": 65,
   "id": "24518a15",
   "metadata": {},
   "outputs": [
    {
     "name": "stdout",
     "output_type": "stream",
     "text": [
      "['0', '0', '8', '7', '6', '5', '3', '1', '8', '7']\n"
     ]
    }
   ],
   "source": [
    "txt = \"The is number 0087653187\"\n",
    "\n",
    "\n",
    "x = re.findall(r\"\\d\", txt)\n",
    "\n",
    "print(x)"
   ]
  },
  {
   "cell_type": "markdown",
   "id": "0eff728c",
   "metadata": {},
   "source": [
    "* \\w \tReturns a match where the string contains any word characters (characters from a to Z, digits from 0-9, and the underscore _ character)\n",
    "\n",
    "\n",
    "# \\w"
   ]
  },
  {
   "cell_type": "code",
   "execution_count": 66,
   "id": "a0452fb0",
   "metadata": {},
   "outputs": [
    {
     "name": "stdout",
     "output_type": "stream",
     "text": [
      "['T', 'h', 'e', 'i', 's', 'n', 'u', 'm', 'b', 'e', 'r', '0', '0', '8', '7', '6', '5', '3', '1', '8', '7']\n"
     ]
    }
   ],
   "source": [
    "txt = \"The is number 0087653187\"\n",
    "\n",
    "\n",
    "x = re.findall(r\"\\w\", txt)\n",
    "\n",
    "print(x)"
   ]
  },
  {
   "cell_type": "markdown",
   "id": "82764168",
   "metadata": {},
   "source": [
    "* \\s Returns a match where the string contains a white space character\n",
    "\n",
    "# \\s"
   ]
  },
  {
   "cell_type": "code",
   "execution_count": 68,
   "id": "1b14f0ed",
   "metadata": {},
   "outputs": [
    {
     "name": "stdout",
     "output_type": "stream",
     "text": [
      "[' ', ' ', ' ', ' ', ' ']\n"
     ]
    }
   ],
   "source": [
    "txt = \"The is number 0087653187 that it\"\n",
    "\n",
    "\n",
    "x = re.findall(r\"\\s\", txt)\n",
    "\n",
    "print(x)"
   ]
  },
  {
   "cell_type": "markdown",
   "id": "efc81a15",
   "metadata": {},
   "source": [
    "### 13. What do means by \\D, \\W, and \\S shorthand character classes signify in regular expressions?"
   ]
  },
  {
   "cell_type": "markdown",
   "id": "cd88c2fd",
   "metadata": {},
   "source": [
    "* \\D  Returns a match where the string DOES NOT contain digits"
   ]
  },
  {
   "cell_type": "code",
   "execution_count": 71,
   "id": "16f3a63b",
   "metadata": {},
   "outputs": [
    {
     "name": "stdout",
     "output_type": "stream",
     "text": [
      "['T', 'h', 'e', ' ', 'i', 's', ' ', 'n', 'u', 'm', 'b', 'e', 'r', ' ', ' ', 't', 'h', 'a', 't', ' ', 'i', 't']\n"
     ]
    }
   ],
   "source": [
    "txt = \"The is number 0087653187 that it\"\n",
    "\n",
    "\n",
    "x = re.findall(r\"\\D\", txt)\n",
    "\n",
    "print(x)"
   ]
  },
  {
   "cell_type": "markdown",
   "id": "da8c1508",
   "metadata": {},
   "source": [
    "* \\W \tReturns a match where the string DOES NOT contain any word characters"
   ]
  },
  {
   "cell_type": "code",
   "execution_count": 72,
   "id": "6f13e957",
   "metadata": {},
   "outputs": [
    {
     "name": "stdout",
     "output_type": "stream",
     "text": [
      "[' ', ' ', ' ', ' ', ' ']\n"
     ]
    }
   ],
   "source": [
    "txt = \"The is number 0087653187 that it\"\n",
    "\n",
    "\n",
    "x = re.findall(r\"\\W\", txt)\n",
    "\n",
    "print(x)"
   ]
  },
  {
   "cell_type": "markdown",
   "id": "07b920b5",
   "metadata": {},
   "source": [
    "* \\S Returns a match where the string DOES NOT contain a white space character"
   ]
  },
  {
   "cell_type": "code",
   "execution_count": 73,
   "id": "6c7508df",
   "metadata": {},
   "outputs": [
    {
     "name": "stdout",
     "output_type": "stream",
     "text": [
      "['T', 'h', 'e', 'i', 's', 'n', 'u', 'm', 'b', 'e', 'r', '0', '0', '8', '7', '6', '5', '3', '1', '8', '7', 't', 'h', 'a', 't', 'i', 't']\n"
     ]
    }
   ],
   "source": [
    "txt = \"The is number 0087653187 that it\"\n",
    "\n",
    "\n",
    "x = re.findall(r\"\\S\", txt)\n",
    "\n",
    "print(x)"
   ]
  },
  {
   "cell_type": "markdown",
   "id": "0ab1fef6",
   "metadata": {},
   "source": [
    "### 14. What is the difference between .* ? and . * ?"
   ]
  },
  {
   "cell_type": "markdown",
   "id": "4ba4ae8e",
   "metadata": {},
   "source": [
    "? adds ?, a quantifier that matches the preceding element (the \".\" here) 0 or 1 times.\n",
    "\n",
    ".* adds *, a quantifier that matches the preceding element (the \".\" here) 0 or more times."
   ]
  },
  {
   "cell_type": "markdown",
   "id": "cf0ee381",
   "metadata": {},
   "source": [
    "### 15. What is the syntax for matching both numbers and lowercase letters with a character class?"
   ]
  },
  {
   "cell_type": "markdown",
   "id": "be194730",
   "metadata": {},
   "source": [
    "[a-zA-Z] Returns a match for any character alphabetically between a and z, lower case OR upper case "
   ]
  },
  {
   "cell_type": "code",
   "execution_count": 76,
   "id": "4453e3d3",
   "metadata": {},
   "outputs": [
    {
     "name": "stdout",
     "output_type": "stream",
     "text": [
      "['T', 'h', 'e', 'i', 's', 'n', 'u', 'm', 'b', 'e', 'r', 't', 'h', 'a', 't', 'i', 't']\n"
     ]
    }
   ],
   "source": [
    "txt = \"The is number 0087653187 that it\"\n",
    "\n",
    "\n",
    "x = re.findall('[a-zA-Z]', txt)\n",
    "\n",
    "print(x)"
   ]
  },
  {
   "cell_type": "code",
   "execution_count": 82,
   "id": "cf6652c9",
   "metadata": {},
   "outputs": [
    {
     "data": {
      "text/plain": [
       "'not matched'"
      ]
     },
     "execution_count": 82,
     "metadata": {},
     "output_type": "execute_result"
    }
   ],
   "source": [
    "def match(text):\n",
    "    patterns = '^[a-z0-9]*$'\n",
    "    if re.search(patterns,text):\n",
    "        return \"matched\"\n",
    "    else:\n",
    "        return\"not matched\"\n",
    "    \n",
    "    \n",
    "match(\"lokesh guptha\")"
   ]
  },
  {
   "cell_type": "code",
   "execution_count": 77,
   "id": "bc110dda",
   "metadata": {},
   "outputs": [
    {
     "name": "stdout",
     "output_type": "stream",
     "text": [
      "['h', 'e', 'i', 's', 'n', 'u', 'm', 'b', 'e', 'r', 't', 'h', 'a', 't', 'i', 't']\n"
     ]
    }
   ],
   "source": [
    "txt = \"The is number 0087653187 that it\"\n",
    "\n",
    "\n",
    "x = re.findall('[a-z]', txt) # This alow sonly lower case \n",
    "\n",
    "print(x)"
   ]
  },
  {
   "cell_type": "code",
   "execution_count": 80,
   "id": "657765d3",
   "metadata": {},
   "outputs": [
    {
     "name": "stdout",
     "output_type": "stream",
     "text": [
      "['T']\n"
     ]
    }
   ],
   "source": [
    "txt = \"The is number 0087653187 that it\"\n",
    "\n",
    "\n",
    "x = re.findall('[A-Z]', txt) # this is allows only upper case\n",
    "\n",
    "print(x)"
   ]
  },
  {
   "cell_type": "markdown",
   "id": "e2b47451",
   "metadata": {},
   "source": [
    "### 16. What is the procedure for making a normal expression in regax case insensitive?"
   ]
  },
  {
   "cell_type": "markdown",
   "id": "b06784fb",
   "metadata": {},
   "source": [
    "use re.IGNORECASE to search, match, or sub"
   ]
  },
  {
   "cell_type": "markdown",
   "id": "6f5752e2",
   "metadata": {},
   "source": [
    "### 17. What does the . character normally match? What does it match if re.DOTALL is passed as 2nd argument in re.compile()?"
   ]
  },
  {
   "cell_type": "markdown",
   "id": "5a67b4c4",
   "metadata": {},
   "source": [
    "dot character matches everything in input except newline character\n",
    "\n",
    "By passing re. DOTALL as the second argument to re. compile() , you can make the dot character match all characters, including the newline character."
   ]
  },
  {
   "cell_type": "markdown",
   "id": "42be2873",
   "metadata": {},
   "source": [
    "### 18. If numReg = re.compile(r'\\d+'), what will numRegex.sub('X', '11 drummers, 10 pipers, five rings, 4 hen') return?"
   ]
  },
  {
   "cell_type": "markdown",
   "id": "a5806783",
   "metadata": {},
   "source": [
    "'X drummers, X pipers, five rings, X hen'"
   ]
  },
  {
   "cell_type": "code",
   "execution_count": 88,
   "id": "b6a229df",
   "metadata": {},
   "outputs": [
    {
     "data": {
      "text/plain": [
       "'X drummers, X pipers, five rings, X hen'"
      ]
     },
     "execution_count": 88,
     "metadata": {},
     "output_type": "execute_result"
    }
   ],
   "source": [
    "numReg = re.compile(r'\\d+')\n",
    "numReg.sub('X', '11 drummers, 10 pipers, five rings, 4 hen') "
   ]
  },
  {
   "cell_type": "markdown",
   "id": "8a904f63",
   "metadata": {},
   "source": [
    "### 19. What does passing re.VERBOSE as the 2nd argument to re.compile() allow to do?"
   ]
  },
  {
   "cell_type": "markdown",
   "id": "05295e22",
   "metadata": {},
   "source": [
    "it will allow to add whitespace and comments to string passed to re.compile()."
   ]
  },
  {
   "cell_type": "markdown",
   "id": "6a3acc80",
   "metadata": {},
   "source": [
    "### 20. How would you write a regex that match a number with comma for every three digits? It must match the given following:\n",
    "'42'\n",
    "\n",
    "'1,234'\n",
    "\n",
    "'6,368,745'\n",
    "\n",
    "but not the following:\n",
    "\n",
    "'12,34,567' (which has only two digits between the commas)\n",
    "\n",
    "'1234' (which lacks commas)"
   ]
  },
  {
   "cell_type": "code",
   "execution_count": 92,
   "id": "813e13f0",
   "metadata": {},
   "outputs": [
    {
     "data": {
      "text/plain": [
       "re.compile(r'^\\d{1,3}(,\\d{3})*$', re.UNICODE)"
      ]
     },
     "execution_count": 92,
     "metadata": {},
     "output_type": "execute_result"
    }
   ],
   "source": [
    "re.compile(r'^\\d{1,3}(,\\d{3})*$')"
   ]
  },
  {
   "cell_type": "code",
   "execution_count": 113,
   "id": "020857de",
   "metadata": {},
   "outputs": [
    {
     "name": "stdout",
     "output_type": "stream",
     "text": [
      "Type a number with commas\n",
      "12,34,567\n",
      "Does Not Match the Regular Expression!\n"
     ]
    }
   ],
   "source": [
    "\n",
    "print('Type a number with commas')\n",
    "sentence = input() \n",
    "\n",
    "import re\n",
    "\n",
    "pattern = re.compile(r'\\d{1,3}(,\\d{3})*')\n",
    "\n",
    "matches = pattern.match(sentence)\n",
    "if matches.group(0) != sentence:\n",
    "       print ('Does Not Match the Regular Expression!')\n",
    "\n",
    "else:\n",
    "    print(matches.group(0)+ ' matches the pattern.')\n",
    " "
   ]
  },
  {
   "cell_type": "markdown",
   "id": "d0a2f188",
   "metadata": {},
   "source": [
    "### 21. How would you write a regex that matches the full name of someone whose last name is Watanabe? You can assume that the first name that comes before it will always be one word that begins with a capital letter. The regex must match the following:\n",
    "'Haruto Watanabe'\n",
    "\n",
    "'Alice Watanabe'\n",
    "\n",
    "'RoboCop Watanabe'\n",
    "\n",
    "but not the following:\n",
    "\n",
    "'haruto Watanabe' (where the first name is not capitalized)\n",
    "\n",
    "'Mr. Watanabe' (where the preceding word has a nonletter character)\n",
    "\n",
    "'Watanabe' (which has no first name)\n",
    "\n",
    "'Haruto watanabe' (where Watanabe is not capitalized)"
   ]
  },
  {
   "cell_type": "code",
   "execution_count": 136,
   "id": "3fa80766",
   "metadata": {},
   "outputs": [
    {
     "name": "stdout",
     "output_type": "stream",
     "text": [
      "Enter the name of person eding with Watanabe \n",
      "Mr. Watanabe\n",
      "False\n",
      "Mr. Watanabe\n"
     ]
    }
   ],
   "source": [
    "import re    #import regular expressions\n",
    "\n",
    "#regular expression\n",
    "NameSearch = re.compile(r'[a-z][A-Z]+\\D Watanabe', re.I )\n",
    "\n",
    "# perform search on string\n",
    "print(\"Enter the name of person eding with Watanabe \")\n",
    "name = input()\n",
    "Result = NameSearch.search(name)\n",
    "\n",
    "#Debug code to check if it found a match or not\n",
    "print (Result == None)\n",
    "\n",
    "if Result != None:\n",
    "    \n",
    "    print (Result.group())"
   ]
  },
  {
   "cell_type": "code",
   "execution_count": 130,
   "id": "aae7cc02",
   "metadata": {},
   "outputs": [
    {
     "name": "stdout",
     "output_type": "stream",
     "text": [
      "Enter the name of person eding with Watanabe \n",
      "Alice Watanabe\n",
      "True\n"
     ]
    }
   ],
   "source": [
    "\n",
    "import re    #import regular expressions\n",
    "\n",
    "#regular expression\n",
    "NameSearch = re.compile(r'[a-z][A-Z]+\\s Watanabe', re.I )\n",
    "\n",
    "# perform search on string\n",
    "print(\"Enter the name of person eding with Watanabe \")\n",
    "name = input()\n",
    "Result = NameSearch.search(name)\n",
    "\n",
    "#Debug code to check if it found a match or not\n",
    "print (Result == None)\n",
    "\n",
    "if Result != None:\n",
    "    \n",
    "    print (Result.group())"
   ]
  },
  {
   "cell_type": "markdown",
   "id": "1511c411",
   "metadata": {},
   "source": [
    "### 22. How would you write a regex that matches a sentence where the first word is either Alice, Bob,or Carol; the second word is either eats, pets, or throws; the third word is apples, cats, or baseballs; and the sentence ends with a period? This regex should be case-insensitive. It must match the following:\n",
    "'Alice eats apples.'\n",
    "\n",
    "'Bob pets cats.'\n",
    "\n",
    "'Carol throws baseballs.'\n",
    "\n",
    "'Alice throws Apples.'\n",
    "\n",
    "'BOB EATS CATS.'\n",
    "\n",
    "but not the following: 'RoboCop eats apples.'\n",
    "\n",
    "'ALICE THROWS FOOTBALLS.'\n",
    "\n",
    "'Carol eats 7 cats.'"
   ]
  },
  {
   "cell_type": "markdown",
   "id": "60b1e534",
   "metadata": {},
   "source": [
    "re.compile(r'(Alice|Bob|Carol)\\s(eats|pets|throws)\\s(apples|cats|baseballs)\\.', re.IGNOR"
   ]
  },
  {
   "cell_type": "code",
   "execution_count": null,
   "id": "45e27abe",
   "metadata": {},
   "outputs": [],
   "source": []
  }
 ],
 "metadata": {
  "kernelspec": {
   "display_name": "Python 3 (ipykernel)",
   "language": "python",
   "name": "python3"
  },
  "language_info": {
   "codemirror_mode": {
    "name": "ipython",
    "version": 3
   },
   "file_extension": ".py",
   "mimetype": "text/x-python",
   "name": "python",
   "nbconvert_exporter": "python",
   "pygments_lexer": "ipython3",
   "version": "3.9.13"
  }
 },
 "nbformat": 4,
 "nbformat_minor": 5
}
